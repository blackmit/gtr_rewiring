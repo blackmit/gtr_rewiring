{
 "cells": [
  {
   "cell_type": "markdown",
   "id": "5bf95b79",
   "metadata": {},
   "source": [
    "Here is a simple example of the `gtr_rewiring` module.\n",
    "\n",
    "`gtr_rewiring` provides a set of transforms to add edges to a `torch_geometric` graph. Our recommended usage is to use the transform `PrecomputeGTREdges` as a `pre_transform` for a dataset and `AddPrecomputedGTREdges` as a `transform`. `PrecomputeGTREdges` computes a set of edges using the GTR algorithm for each graph in the dataset; however, this does not actually add the edges to the graph. `AddPrecomputedGTREdges` adds the best subset of the precomputed edges to the graph.  "
   ]
  },
  {
   "cell_type": "code",
   "execution_count": 1,
   "id": "58f840b6",
   "metadata": {},
   "outputs": [],
   "source": [
    "import torch_geometric.transforms as T\n",
    "from torch_geometric.datasets import TUDataset\n",
    "from gtr import PrecomputeGTREdges, AddPrecomputedGTREdges "
   ]
  },
  {
   "cell_type": "code",
   "execution_count": 2,
   "id": "4b870d7b",
   "metadata": {},
   "outputs": [],
   "source": [
    "# precompute 30 edges with the gtr algorithm\n",
    "pre_transform = T.Compose([PrecomputeGTREdges(num_edges=30)])\n",
    "# add 20 of the precomputed edges to the graph\n",
    "transform = T.Compose([AddPrecomputedGTREdges(num_edges=20)])\n",
    "# load the dataset\n",
    "dataset = TUDataset(\n",
    "    root=\"/tmp/\",\n",
    "    name=\"MUTAG\",\n",
    "    transform=transform,\n",
    "    pre_transform=pre_transform\n",
    ")"
   ]
  },
  {
   "cell_type": "markdown",
   "id": "38b44f21",
   "metadata": {},
   "source": [
    "The precomputed edges are stored in the `precomputed_gtr_edges` attribute of each graph. We can check that the correct number of edges has been successfully precomputed"
   ]
  },
  {
   "cell_type": "code",
   "execution_count": 3,
   "id": "aadfea34",
   "metadata": {},
   "outputs": [
    {
     "name": "stdout",
     "output_type": "stream",
     "text": [
      "Edges succesfully precomputed!\n"
     ]
    }
   ],
   "source": [
    "# Check that 60 edges have been precomputed for each graph.\n",
    "# (AddPrecomputedGTREdges adds both direction of an edge,\n",
    "# which is why we check that 60, not 30, edges have been precomputed.)\n",
    "if all([\n",
    "    hasattr(data, \"precomputed_gtr_edges\") and data.precomputed_gtr_edges.shape[1] == 60\n",
    "    for data in dataset\n",
    "]):\n",
    "    print(\"Edges succesfully precomputed!\")"
   ]
  },
  {
   "cell_type": "markdown",
   "id": "43a7bd69",
   "metadata": {},
   "source": [
    "We can now verify that edges have actually been added to the `edge_index`."
   ]
  },
  {
   "cell_type": "code",
   "execution_count": 4,
   "id": "d51cb4ae",
   "metadata": {},
   "outputs": [
    {
     "name": "stdout",
     "output_type": "stream",
     "text": [
      "Edges succesfully added!\n"
     ]
    }
   ],
   "source": [
    "# Load the dataset \n",
    "dataset_wo_edges = TUDataset(\n",
    "    root=\"/tmp/\",\n",
    "    name=\"MUTAG\",\n",
    "    pre_transform=pre_transform\n",
    ")\n",
    "# Check that 40 edges have been added to each graph in the dataset\n",
    "if all([ \n",
    "    (data.edge_index.shape[1]-data_wo_edges.edge_index.shape[1]) == 40\n",
    "    for data, data_wo_edges \n",
    "    in zip(dataset, dataset_wo_edges) \n",
    "]):\n",
    "    print(\"Edges succesfully added!\")"
   ]
  }
 ],
 "metadata": {
  "kernelspec": {
   "display_name": "Python 3 (ipykernel)",
   "language": "python",
   "name": "python3"
  },
  "language_info": {
   "codemirror_mode": {
    "name": "ipython",
    "version": 3
   },
   "file_extension": ".py",
   "mimetype": "text/x-python",
   "name": "python",
   "nbconvert_exporter": "python",
   "pygments_lexer": "ipython3",
   "version": "3.9.12"
  }
 },
 "nbformat": 4,
 "nbformat_minor": 5
}
